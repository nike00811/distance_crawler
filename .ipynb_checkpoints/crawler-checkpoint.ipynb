{
 "cells": [
  {
   "cell_type": "code",
   "execution_count": 1,
   "metadata": {
    "id": "lOWAZwap5PER"
   },
   "outputs": [],
   "source": [
    "import threading\n",
    "import requests\n",
    "from bs4 import BeautifulSoup\n",
    "from time import sleep\n",
    "import pandas as pd\n",
    "import json\n",
    "import os\n",
    "from fake_useragent import UserAgent\n",
    "from tqdm.notebook import tqdm"
   ]
  },
  {
   "cell_type": "code",
   "execution_count": null,
   "metadata": {},
   "outputs": [],
   "source": [
    "pd.options.display.max_columns = None\n",
    "pd.options.display.max_rows = None\n",
    "user_agent = UserAgent()"
   ]
  },
  {
   "cell_type": "code",
   "execution_count": 2,
   "metadata": {},
   "outputs": [],
   "source": [
    "template = 'https://www.google.com.tw/maps/dir/{}/{}'\n",
    "input_file = 'address_list.json'\n",
    "output_file = 'adjacency_matrix.json'"
   ]
  },
  {
   "cell_type": "code",
   "execution_count": 3,
   "metadata": {
    "id": "g2KtE_U75ik6"
   },
   "outputs": [],
   "source": [
    "def get_header():\n",
    "    headers = {\n",
    "        \"Accept\": \"text/html,application/xhtml+xml,application/xml;q=0.9,image/avif,image/webp,image/apng,*/*;q=0.8,application/signed-exchange;v=b3;q=0.9\", \n",
    "        \"Accept-Encoding\": \"gzip, deflate, br\", \n",
    "        \"Accept-Language\": \"zh-TW,zh;q=0.9\", \n",
    "        \"Sec-Fetch-Dest\": \"document\", \n",
    "        \"Sec-Fetch-Mode\": \"navigate\", \n",
    "        \"Sec-Fetch-Site\": \"none\", \n",
    "        \"Upgrade-Insecure-Requests\": \"1\", \n",
    "        \"User-Agent\": user_agent.random\n",
    "    }\n",
    "    return headers"
   ]
  },
  {
   "cell_type": "code",
   "execution_count": 4,
   "metadata": {
    "id": "CMVQXcAZ5wNy"
   },
   "outputs": [],
   "source": [
    "def get_dist(soup):\n",
    "    doc = soup.prettify()\n",
    "    if doc.find('公里') != -1:\n",
    "        pos = doc.find('公里')\n",
    "        return float(doc[pos-20:pos].split('\\\"')[-1])\n",
    "\n",
    "    elif doc.find('公尺') != -1:\n",
    "        pos = doc.find('公尺')\n",
    "        return float(doc[pos-20:pos].split('\\\"')[-1]) / 1000\n",
    "    else:\n",
    "        return None\n",
    "\n",
    "def job(i, j, url, adjacency_matrix):\n",
    "    html_doc = requests.get(url, headers=get_header())\n",
    "    if html_doc.status_code != 200:\n",
    "        print('I\\'m a robot')\n",
    "        return\n",
    "    soup = BeautifulSoup(html_doc.text, 'html.parser')\n",
    "    adjacency_matrix[i['name']][j['name']] = get_dist(soup)\n",
    "\n",
    "def crawler(addr_list, adjacency_matrix):\n",
    "    threads = []\n",
    "    \n",
    "    arr = []\n",
    "    for i in addr_list:\n",
    "        for j in addr_list:\n",
    "            arr.append([i, j])\n",
    "            \n",
    "    for index, (i, j) in enumerate(tqdm(arr)):\n",
    "        if adjacency_matrix[i['name']][j['name']] != None:\n",
    "            continue\n",
    "        url = template.format(i['address'], j['address'])\n",
    "        print('\\r{} -> {}'.format(i['name'], j['name']), end='')\n",
    "#         print('\\r{}/{}, {} -> {}, url: {}'.format(\n",
    "#             index, len(addr_list)*len(addr_list), i['name'], j['name'], url), end='')\n",
    "\n",
    "        threads.append(threading.Thread(target = job, args = (i, j, url, adjacency_matrix)))\n",
    "        threads[-1].start()\n",
    "        sleep(0.01)\n",
    "    print()\n",
    "    print('wait a moment')\n",
    "    for thread in threads:\n",
    "        thread.join()\n",
    "\n",
    "def get_valid_edge_size(adjacency_matrix):\n",
    "    cnt = 0\n",
    "    for src in adjacency_matrix.keys():\n",
    "        for dest in adjacency_matrix.keys():\n",
    "            if adjacency_matrix[src][dest] != None:\n",
    "                cnt += 1\n",
    "    return cnt"
   ]
  },
  {
   "cell_type": "code",
   "execution_count": 5,
   "metadata": {},
   "outputs": [],
   "source": [
    "def init_adjacency_matrix(addr_list):\n",
    "    adjacency_matrix = {}\n",
    "    for i in addr_list:\n",
    "        adjacency_matrix[i['name']] = {}\n",
    "        for j in addr_list:\n",
    "            if i['name'] == j['name']:\n",
    "                adjacency_matrix[i['name']][j['name']] = 0\n",
    "            else:\n",
    "                adjacency_matrix[i['name']][j['name']] = None\n",
    "    return adjacency_matrix\n",
    "\n",
    "def get_matrix(output_file, addr_list):\n",
    "    name_set = set(pd.DataFrame(addr_list)['name'])\n",
    "    \n",
    "    # cache file\n",
    "    if os.path.exists(output_file):\n",
    "        with open(file=output_file, mode='r', encoding='utf-8') as reader:\n",
    "            adjacency_matrix = json.load(reader)\n",
    "\n",
    "        # check if the cache file is available\n",
    "        if set(adjacency_matrix.keys()) == name_set:\n",
    "            return adjacency_matrix\n",
    "\n",
    "    adjacency_matrix = init_adjacency_matrix(addr_list)\n",
    "    # create/overwrite file\n",
    "    with open(file=output_file, mode='w', encoding='utf-8') as writer:\n",
    "        json.dump(obj=adjacency_matrix, fp=writer, ensure_ascii=False, indent=4)\n",
    "    return adjacency_matrix    "
   ]
  },
  {
   "cell_type": "markdown",
   "metadata": {},
   "source": [
    "### main function"
   ]
  },
  {
   "cell_type": "code",
   "execution_count": 6,
   "metadata": {},
   "outputs": [],
   "source": [
    "with open(file=input_file, mode='r', encoding='utf-8') as reader:\n",
    "    addr_list = json.load(reader)\n",
    "# addr_list = [{\"name\": \"中坡\", \"address\": \"台北市南港區中坡南路47號1樓\"},\n",
    "#               {\"name\": \"中研\", \"address\": \"台北市南港區研究院路二段128號1樓(學術活動中心)\"},\n",
    "#               {\"name\": \"中貿\", \"address\": \"台北市南港區經貿二路186號2樓\"},\n",
    "#               {\"name\": \"玉成\", \"address\": \"台北市南港區西新里南港路三段3號1樓\"}]"
   ]
  },
  {
   "cell_type": "code",
   "execution_count": 7,
   "metadata": {
    "id": "GiVrGudn5BZf",
    "scrolled": false
   },
   "outputs": [
    {
     "name": "stdout",
     "output_type": "stream",
     "text": [
      "cnt = 5\n"
     ]
    },
    {
     "data": {
      "application/vnd.jupyter.widget-view+json": {
       "model_id": "d95d9af336a64c72932cfa186f32a5e1",
       "version_major": 2,
       "version_minor": 0
      },
      "text/plain": [
       "  0%|          | 0/25 [00:00<?, ?it/s]"
      ]
     },
     "metadata": {},
     "output_type": "display_data"
    },
    {
     "name": "stdout",
     "output_type": "stream",
     "text": [
      "玉德 -> 玉成\n",
      "wait a moment\n",
      "cnt = 21\n"
     ]
    },
    {
     "data": {
      "application/vnd.jupyter.widget-view+json": {
       "model_id": "fb758c237ea743f69ec795190f75ab64",
       "version_major": 2,
       "version_minor": 0
      },
      "text/plain": [
       "  0%|          | 0/25 [00:00<?, ?it/s]"
      ]
     },
     "metadata": {},
     "output_type": "display_data"
    },
    {
     "name": "stdout",
     "output_type": "stream",
     "text": [
      "中貿 -> 玉德\n",
      "wait a moment\n",
      "cnt = 25\n"
     ]
    }
   ],
   "source": [
    "adjacency_matrix = get_matrix(output_file, addr_list)\n",
    "\n",
    "cnt = get_valid_edge_size(adjacency_matrix) # number of edge that already get distance\n",
    "print('cnt = {}'.format(cnt))\n",
    "\n",
    "time_out = 0\n",
    "while cnt != len(addr_list) * len(addr_list):\n",
    "    if time_out > 3:\n",
    "        print('[ERROR] I\\'m a robot')\n",
    "        break\n",
    "    \n",
    "    crawler(addr_list, adjacency_matrix)\n",
    "    newcnt = get_valid_edge_size(adjacency_matrix)\n",
    "    if cnt == newcnt:\n",
    "        sleep(2)\n",
    "        time_out += 1\n",
    "\n",
    "    cnt = newcnt\n",
    "    print('cnt = {}'.format(cnt))\n",
    "    sleep(5)"
   ]
  },
  {
   "cell_type": "code",
   "execution_count": 8,
   "metadata": {
    "id": "GiVrGudn5BZf",
    "scrolled": true
   },
   "outputs": [
    {
     "name": "stdout",
     "output_type": "stream",
     "text": [
      "adjacency matrix save at adjacency_matrix.json\n"
     ]
    }
   ],
   "source": [
    "print('adjacency matrix save at {}'.format(output_file))\n",
    "with open(file=output_file, mode='w', encoding='utf-8') as writer:\n",
    "    json.dump(obj=adjacency_matrix, fp=writer, ensure_ascii=False, indent=4)"
   ]
  },
  {
   "cell_type": "code",
   "execution_count": 9,
   "metadata": {
    "id": "OzAs6jDr6Ot6",
    "scrolled": false
   },
   "outputs": [
    {
     "data": {
      "text/html": [
       "<div>\n",
       "<style scoped>\n",
       "    .dataframe tbody tr th:only-of-type {\n",
       "        vertical-align: middle;\n",
       "    }\n",
       "\n",
       "    .dataframe tbody tr th {\n",
       "        vertical-align: top;\n",
       "    }\n",
       "\n",
       "    .dataframe thead th {\n",
       "        text-align: right;\n",
       "    }\n",
       "</style>\n",
       "<table border=\"1\" class=\"dataframe\">\n",
       "  <thead>\n",
       "    <tr style=\"text-align: right;\">\n",
       "      <th></th>\n",
       "      <th>中坡</th>\n",
       "      <th>中研</th>\n",
       "      <th>中貿</th>\n",
       "      <th>玉成</th>\n",
       "      <th>玉德</th>\n",
       "    </tr>\n",
       "  </thead>\n",
       "  <tbody>\n",
       "    <tr>\n",
       "      <th>中坡</th>\n",
       "      <td>0.00</td>\n",
       "      <td>6.0</td>\n",
       "      <td>4.8</td>\n",
       "      <td>2.5</td>\n",
       "      <td>0.35</td>\n",
       "    </tr>\n",
       "    <tr>\n",
       "      <th>中研</th>\n",
       "      <td>5.50</td>\n",
       "      <td>0.0</td>\n",
       "      <td>2.5</td>\n",
       "      <td>4.4</td>\n",
       "      <td>5.30</td>\n",
       "    </tr>\n",
       "    <tr>\n",
       "      <th>中貿</th>\n",
       "      <td>4.70</td>\n",
       "      <td>3.2</td>\n",
       "      <td>0.0</td>\n",
       "      <td>2.7</td>\n",
       "      <td>4.50</td>\n",
       "    </tr>\n",
       "    <tr>\n",
       "      <th>玉成</th>\n",
       "      <td>2.20</td>\n",
       "      <td>4.8</td>\n",
       "      <td>3.1</td>\n",
       "      <td>0.0</td>\n",
       "      <td>2.00</td>\n",
       "    </tr>\n",
       "    <tr>\n",
       "      <th>玉德</th>\n",
       "      <td>0.35</td>\n",
       "      <td>5.7</td>\n",
       "      <td>4.5</td>\n",
       "      <td>2.3</td>\n",
       "      <td>0.00</td>\n",
       "    </tr>\n",
       "  </tbody>\n",
       "</table>\n",
       "</div>"
      ],
      "text/plain": [
       "      中坡   中研   中貿   玉成    玉德\n",
       "中坡  0.00  6.0  4.8  2.5  0.35\n",
       "中研  5.50  0.0  2.5  4.4  5.30\n",
       "中貿  4.70  3.2  0.0  2.7  4.50\n",
       "玉成  2.20  4.8  3.1  0.0  2.00\n",
       "玉德  0.35  5.7  4.5  2.3  0.00"
      ]
     },
     "execution_count": 9,
     "metadata": {},
     "output_type": "execute_result"
    }
   ],
   "source": [
    "pd.DataFrame(adjacency_matrix)"
   ]
  }
 ],
 "metadata": {
  "colab": {
   "provenance": []
  },
  "kernelspec": {
   "display_name": "Python 3 (ipykernel)",
   "language": "python",
   "name": "python3"
  },
  "language_info": {
   "codemirror_mode": {
    "name": "ipython",
    "version": 3
   },
   "file_extension": ".py",
   "mimetype": "text/x-python",
   "name": "python",
   "nbconvert_exporter": "python",
   "pygments_lexer": "ipython3",
   "version": "3.10.8"
  }
 },
 "nbformat": 4,
 "nbformat_minor": 1
}
